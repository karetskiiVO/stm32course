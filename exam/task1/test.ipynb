{
 "cells": [
  {
   "cell_type": "code",
   "execution_count": 12,
   "metadata": {},
   "outputs": [],
   "source": [
    "import serial"
   ]
  },
  {
   "cell_type": "code",
   "execution_count": 53,
   "metadata": {},
   "outputs": [],
   "source": [
    "s = serial.Serial('COM6', 9600)\n",
    "s.write(b'\\x00\\xff')\n",
    "s.close()"
   ]
  },
  {
   "cell_type": "code",
   "execution_count": 54,
   "metadata": {},
   "outputs": [],
   "source": [
    "s = serial.Serial('COM6', 9600)\n",
    "s.write(b'\\x00\\x00')\n",
    "s.close()"
   ]
  },
  {
   "cell_type": "code",
   "execution_count": 55,
   "metadata": {},
   "outputs": [],
   "source": [
    "s = serial.Serial('COM6', 9600)\n",
    "s.write(b'\\x00\\x7f')\n",
    "s.close()"
   ]
  },
  {
   "cell_type": "code",
   "execution_count": 58,
   "metadata": {},
   "outputs": [],
   "source": [
    "s = serial.Serial('COM6', 9600)\n",
    "s.write(b'\\x01\\x05')\n",
    "s.close()"
   ]
  },
  {
   "cell_type": "code",
   "execution_count": 56,
   "metadata": {},
   "outputs": [],
   "source": [
    "s = serial.Serial('COM6', 9600)\n",
    "s.write(b'\\x01\\x01')\n",
    "s.close()"
   ]
  },
  {
   "cell_type": "code",
   "execution_count": 57,
   "metadata": {},
   "outputs": [],
   "source": [
    "s = serial.Serial('COM6', 9600)\n",
    "s.write(b'\\x01\\x02')\n",
    "s.close()"
   ]
  }
 ],
 "metadata": {
  "kernelspec": {
   "display_name": "Python 3.8.10 64-bit",
   "language": "python",
   "name": "python3"
  },
  "language_info": {
   "codemirror_mode": {
    "name": "ipython",
    "version": 3
   },
   "file_extension": ".py",
   "mimetype": "text/x-python",
   "name": "python",
   "nbconvert_exporter": "python",
   "pygments_lexer": "ipython3",
   "version": "3.8.10"
  },
  "orig_nbformat": 4,
  "vscode": {
   "interpreter": {
    "hash": "7b6cba75ba02b942871c37574efbebf2a9e68eabbf45fae37b3151be8be4ac2c"
   }
  }
 },
 "nbformat": 4,
 "nbformat_minor": 2
}
